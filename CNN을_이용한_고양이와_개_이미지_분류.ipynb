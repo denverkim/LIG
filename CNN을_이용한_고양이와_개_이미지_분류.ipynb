{
  "cells": [
    {
      "cell_type": "markdown",
      "metadata": {
        "id": "view-in-github",
        "colab_type": "text"
      },
      "source": [
        "<a href=\"https://colab.research.google.com/github/denverkim/LIG/blob/main/CNN%EC%9D%84_%EC%9D%B4%EC%9A%A9%ED%95%9C_%EA%B3%A0%EC%96%91%EC%9D%B4%EC%99%80_%EA%B0%9C_%EC%9D%B4%EB%AF%B8%EC%A7%80_%EB%B6%84%EB%A5%98.ipynb\" target=\"_parent\"><img src=\"https://colab.research.google.com/assets/colab-badge.svg\" alt=\"Open In Colab\"/></a>"
      ]
    },
    {
      "cell_type": "markdown",
      "metadata": {
        "id": "-bRPuhKkFYrE"
      },
      "source": [
        "# 고양이와 개 이미지 분류하기"
      ]
    },
    {
      "cell_type": "code",
      "execution_count": null,
      "metadata": {
        "id": "KqN_jNmmFUtO",
        "colab": {
          "base_uri": "https://localhost:8080/"
        },
        "outputId": "891847d4-c341-40be-cb3b-cfddc7feb19f"
      },
      "outputs": [
        {
          "output_type": "stream",
          "name": "stdout",
          "text": [
            "--2022-07-24 11:21:50--  https://storage.googleapis.com/mledu-datasets/cats_and_dogs_filtered.zip\n",
            "Resolving storage.googleapis.com (storage.googleapis.com)... 172.217.218.128, 142.251.31.128, 142.251.18.128, ...\n",
            "Connecting to storage.googleapis.com (storage.googleapis.com)|172.217.218.128|:443... connected.\n",
            "HTTP request sent, awaiting response... 200 OK\n",
            "Length: 68606236 (65M) [application/zip]\n",
            "Saving to: ‘/tmp/cats_and_dogs_filtered.zip’\n",
            "\n",
            "/tmp/cats_and_dogs_ 100%[===================>]  65.43M   173MB/s    in 0.4s    \n",
            "\n",
            "2022-07-24 11:21:51 (173 MB/s) - ‘/tmp/cats_and_dogs_filtered.zip’ saved [68606236/68606236]\n",
            "\n"
          ]
        }
      ],
      "source": [
        "# 다운로드\n",
        "!wget --no-check-certificate \\\n",
        "https://storage.googleapis.com/mledu-datasets/cats_and_dogs_filtered.zip \\\n",
        "-O /tmp/cats_and_dogs_filtered.zip"
      ]
    },
    {
      "cell_type": "code",
      "execution_count": null,
      "metadata": {
        "id": "hI9GO_l0Ff6M"
      },
      "outputs": [],
      "source": [
        "#압축풀기\n",
        "import os\n",
        "import zipfile\n",
        "\n",
        "local_zip = '/tmp/cats_and_dogs_filtered.zip'\n",
        "\n",
        "zip_ref = zipfile.ZipFile(local_zip, 'r')\n",
        "\n",
        "zip_ref.extractall('/tmp')\n",
        "zip_ref.close()"
      ]
    },
    {
      "cell_type": "code",
      "execution_count": null,
      "metadata": {
        "id": "LJqEfLfMF4h4"
      },
      "outputs": [],
      "source": [
        "# 경로지정\n",
        "base_dir = '/tmp/cats_and_dogs_filtered' # 기본 경로\n",
        "\n",
        "train_dir = os.path.join(base_dir, 'train')\n",
        "validation_dir = os.path.join(base_dir, 'validation')"
      ]
    },
    {
      "cell_type": "code",
      "execution_count": null,
      "metadata": {
        "id": "wh4zEG6HGBac"
      },
      "outputs": [],
      "source": [
        "# 훈련에 사용되는 고양이/개 이미지 경로\n",
        "train_cats_dir = os.path.join(train_dir, 'cats')\n",
        "train_dogs_dir = os.path.join(train_dir, 'dogs')\n",
        "print(train_cats_dir)\n",
        "print(train_dogs_dir)\n",
        "\n",
        "# 테스트에 사용되는 고양이/개 이미지 경로\n",
        "validation_cats_dir = os.path.join(validation_dir, 'cats')\n",
        "validation_dogs_dir = os.path.join(validation_dir, 'dogs')\n",
        "print(validation_cats_dir)\n",
        "print(validation_dogs_dir) \n",
        "\n",
        "# 파일이름\n",
        "train_cat_fnames = os.listdir( train_cats_dir )\n",
        "train_dog_fnames = os.listdir( train_dogs_dir )\n",
        "print(train_cat_fnames[:5])\n",
        "print(train_dog_fnames[:5])\n",
        "\n",
        "# 파일갯수\n",
        "print('Total training cat images :', len(os.listdir(train_cats_dir)))\n",
        "print('Total training dog images :', len(os.listdir(train_dogs_dir)))\n",
        "\n",
        "print('Total validation cat images :', len(os.listdir(validation_cats_dir)))\n",
        "print('Total validation dog images :', len(os.listdir(validation_dogs_dir)))"
      ]
    },
    {
      "cell_type": "code",
      "execution_count": null,
      "metadata": {
        "id": "BD3UJyYmGaSH"
      },
      "outputs": [],
      "source": [
        "# 이미지 확인\n",
        "import matplotlib.image as mpimg\n",
        "import matplotlib.pyplot as plt\n",
        "\n",
        "nrows, ncols = 4, 4\n",
        "pic_index = 0\n",
        "\n",
        "fig = plt.gcf()\n",
        "fig.set_size_inches(ncols*3, nrows*3)\n",
        "\n",
        "pic_index+=8\n",
        "\n",
        "next_cat_pix = [os.path.join(train_cats_dir, fname)\n",
        "                for fname in train_cat_fnames[ pic_index-8:pic_index]]\n",
        "\n",
        "next_dog_pix = [os.path.join(train_dogs_dir, fname)\n",
        "                for fname in train_dog_fnames[ pic_index-8:pic_index]]\n",
        "\n",
        "for i, img_path in enumerate(next_cat_pix+next_dog_pix):\n",
        "  sp = plt.subplot(nrows, ncols, i + 1)\n",
        "  sp.axis('Off')\n",
        "\n",
        "  img = mpimg.imread(img_path)\n",
        "  plt.imshow(img)\n",
        "\n",
        "plt.show()"
      ]
    },
    {
      "cell_type": "code",
      "execution_count": null,
      "metadata": {
        "colab": {
          "base_uri": "https://localhost:8080/"
        },
        "id": "Qn87cmuEHnSX",
        "outputId": "11b1c3b9-b7ff-48d5-b7f5-9f379948e6d1"
      },
      "outputs": [
        {
          "output_type": "stream",
          "name": "stdout",
          "text": [
            "Found 2000 images belonging to 2 classes.\n",
            "Found 1000 images belonging to 2 classes.\n"
          ]
        }
      ],
      "source": [
        "# 이미지 전처리\n",
        "from tensorflow.keras.preprocessing.image import ImageDataGenerator\n",
        "\n",
        "train_datagen = ImageDataGenerator(rescale = 1.0/255.)\n",
        "test_datagen  = ImageDataGenerator(rescale = 1.0/255.)\n",
        "\n",
        "train_generator = train_datagen.flow_from_directory(train_dir,\n",
        "                                                  batch_size=20,\n",
        "                                                  class_mode='binary',\n",
        "                                                  target_size=(150, 150))\n",
        "validation_generator =  test_datagen.flow_from_directory(validation_dir,\n",
        "                                                       batch_size=20,\n",
        "                                                       class_mode  = 'binary',\n",
        "                                                       target_size = (150, 150))"
      ]
    },
    {
      "cell_type": "code",
      "execution_count": null,
      "metadata": {
        "colab": {
          "base_uri": "https://localhost:8080/"
        },
        "id": "bRJm1cjaGykt",
        "outputId": "55e68800-38c2-491f-80e4-0697d8334eb8"
      },
      "outputs": [
        {
          "output_type": "stream",
          "name": "stdout",
          "text": [
            "Model: \"sequential\"\n",
            "_________________________________________________________________\n",
            " Layer (type)                Output Shape              Param #   \n",
            "=================================================================\n",
            " conv2d (Conv2D)             (None, 148, 148, 16)      448       \n",
            "                                                                 \n",
            " max_pooling2d (MaxPooling2D  (None, 74, 74, 16)       0         \n",
            " )                                                               \n",
            "                                                                 \n",
            " conv2d_1 (Conv2D)           (None, 72, 72, 32)        4640      \n",
            "                                                                 \n",
            " max_pooling2d_1 (MaxPooling  (None, 36, 36, 32)       0         \n",
            " 2D)                                                             \n",
            "                                                                 \n",
            " conv2d_2 (Conv2D)           (None, 34, 34, 64)        18496     \n",
            "                                                                 \n",
            " max_pooling2d_2 (MaxPooling  (None, 17, 17, 64)       0         \n",
            " 2D)                                                             \n",
            "                                                                 \n",
            " flatten (Flatten)           (None, 18496)             0         \n",
            "                                                                 \n",
            " dense (Dense)               (None, 512)               9470464   \n",
            "                                                                 \n",
            " dense_1 (Dense)             (None, 1)                 513       \n",
            "                                                                 \n",
            "=================================================================\n",
            "Total params: 9,494,561\n",
            "Trainable params: 9,494,561\n",
            "Non-trainable params: 0\n",
            "_________________________________________________________________\n"
          ]
        }
      ],
      "source": [
        "# 모델생성\n",
        "from keras.models import Sequential\n",
        "from keras.layers import Conv2D, MaxPooling2D, Flatten, Dense\n",
        "\n",
        "model = Sequential()\n",
        "model.add(Conv2D(16, (3,3), activation='relu', input_shape=(150, 150, 3)))\n",
        "model.add(MaxPooling2D(2,2))\n",
        "model.add(Conv2D(32, (3,3), activation='relu'))\n",
        "model.add(MaxPooling2D(2,2))\n",
        "model.add(Conv2D(64, (3,3), activation='relu'))\n",
        "model.add(MaxPooling2D(2,2))\n",
        "model.add(Flatten())\n",
        "model.add(Dense(512, activation='relu'))\n",
        "model.add(Dense(1, activation='sigmoid'))\n",
        "model.summary()"
      ]
    },
    {
      "cell_type": "code",
      "execution_count": null,
      "metadata": {
        "colab": {
          "base_uri": "https://localhost:8080/"
        },
        "id": "BpjnenB6HfeC",
        "outputId": "1ffb2367-22c2-4cf9-a49e-0e423b9bb6d7"
      },
      "outputs": [
        {
          "output_type": "stream",
          "name": "stderr",
          "text": [
            "/usr/local/lib/python3.7/dist-packages/keras/optimizer_v2/rmsprop.py:130: UserWarning: The `lr` argument is deprecated, use `learning_rate` instead.\n",
            "  super(RMSprop, self).__init__(name, **kwargs)\n"
          ]
        }
      ],
      "source": [
        "# 모델 컴파일\n",
        "from tensorflow.keras.optimizers import RMSprop\n",
        "\n",
        "model.compile(optimizer=RMSprop(lr=0.001),\n",
        "            loss='binary_crossentropy',\n",
        "            metrics = ['accuracy'])"
      ]
    },
    {
      "cell_type": "code",
      "execution_count": null,
      "metadata": {
        "id": "nKi2onrhHwaK",
        "colab": {
          "base_uri": "https://localhost:8080/"
        },
        "outputId": "15fa00d6-1aff-4851-b9c7-910587eac6b5"
      },
      "outputs": [
        {
          "output_type": "stream",
          "name": "stdout",
          "text": [
            "Epoch 1/100\n",
            "100/100 - 20s - loss: 0.8229 - accuracy: 0.5490 - val_loss: 0.6479 - val_accuracy: 0.6400 - 20s/epoch - 197ms/step\n",
            "Epoch 2/100\n",
            "100/100 - 8s - loss: 0.6305 - accuracy: 0.6520 - val_loss: 0.5836 - val_accuracy: 0.6950 - 8s/epoch - 81ms/step\n",
            "Epoch 3/100\n",
            "100/100 - 8s - loss: 0.5448 - accuracy: 0.7205 - val_loss: 0.5523 - val_accuracy: 0.7110 - 8s/epoch - 81ms/step\n",
            "Epoch 4/100\n",
            "100/100 - 8s - loss: 0.5033 - accuracy: 0.7625 - val_loss: 0.5653 - val_accuracy: 0.7230 - 8s/epoch - 81ms/step\n",
            "Epoch 5/100\n",
            "100/100 - 9s - loss: 0.4042 - accuracy: 0.8145 - val_loss: 0.6556 - val_accuracy: 0.7080 - 9s/epoch - 87ms/step\n",
            "Epoch 6/100\n",
            "100/100 - 8s - loss: 0.3376 - accuracy: 0.8400 - val_loss: 0.7147 - val_accuracy: 0.7250 - 8s/epoch - 84ms/step\n",
            "Epoch 7/100\n",
            "100/100 - 8s - loss: 0.2645 - accuracy: 0.8910 - val_loss: 0.7270 - val_accuracy: 0.7080 - 8s/epoch - 83ms/step\n",
            "Epoch 8/100\n",
            "100/100 - 14s - loss: 0.1827 - accuracy: 0.9335 - val_loss: 1.0131 - val_accuracy: 0.7030 - 14s/epoch - 139ms/step\n"
          ]
        }
      ],
      "source": [
        "# 모델 훈련\n",
        "from keras.callbacks import EarlyStopping\n",
        "earlystopping = EarlyStopping(monitor='val_loss', patience=5)\n",
        "history = model.fit(train_generator,\n",
        "                    validation_data=validation_generator,\n",
        "                    steps_per_epoch=100,\n",
        "                    epochs=100,\n",
        "                    validation_steps=50,\n",
        "                    verbose=2,\n",
        "                    callbacks=[earlystopping])"
      ]
    },
    {
      "cell_type": "code",
      "execution_count": null,
      "metadata": {
        "id": "8JqRcka7H4cY",
        "colab": {
          "base_uri": "https://localhost:8080/",
          "height": 545
        },
        "outputId": "7f76f73a-649c-46ea-c1d9-e531df6e0af4"
      },
      "outputs": [
        {
          "output_type": "display_data",
          "data": {
            "text/plain": [
              "<Figure size 432x288 with 1 Axes>"
            ],
            "image/png": "[encoded data removed]"
          },
          "metadata": {
            "needs_background": "light"
          }
        },
        {
          "output_type": "display_data",
          "data": {
            "text/plain": [
              "<Figure size 432x288 with 1 Axes>"
            ],
            "image/png": "[encoded data removed]"
          },
          "metadata": {
            "needs_background": "light"
          }
        }
      ],
      "source": [
        "#히스토리 그래프\n",
        "acc = history.history['accuracy']\n",
        "val_acc = history.history['val_accuracy']\n",
        "loss = history.history['loss']\n",
        "val_loss = history.history['val_loss']\n",
        "\n",
        "plt.plot(acc, 'bo', label='Training accuracy')\n",
        "plt.plot(val_acc, 'b', label='Validation accuracy')\n",
        "plt.title('Training and validation accuracy')\n",
        "plt.legend()\n",
        "\n",
        "plt.figure()\n",
        "plt.plot(loss, 'go', label='Training Loss')\n",
        "plt.plot(val_loss, 'g', label='Validation Loss')\n",
        "plt.title('Training and validation loss')\n",
        "plt.legend()\n",
        "\n",
        "plt.show()"
      ]
    },
    {
      "cell_type": "code",
      "execution_count": null,
      "metadata": {
        "id": "_06-22YnNCNM",
        "colab": {
          "base_uri": "https://localhost:8080/"
        },
        "outputId": "10c7f521-d2e6-4c95-9c24-29a9013db313"
      },
      "outputs": [
        {
          "output_type": "stream",
          "name": "stdout",
          "text": [
            "[1.]\n",
            "/content/test_image.png is a dog\n"
          ]
        }
      ],
      "source": [
        "# 테스트 이미지 분류\n",
        "import numpy as np\n",
        "from keras.preprocessing import image\n",
        "\n",
        "path = '/content/test_image.png'\n",
        "img=image.load_img(path, target_size=(150, 150))\n",
        "x=image.img_to_array(img)\n",
        "# x.shape #(150, 150, 3)\n",
        "x=np.expand_dims(x, axis=0)\n",
        "x.shape #(1, 150, 150, 3)\n",
        "classes = model.predict(x, batch_size=10)\n",
        "print(classes[0])\n",
        "if classes[0]>0:\n",
        "    print(path + \" is a dog\")\n",
        "else:\n",
        "    print(path + \" is a cat\")"
      ]
    },
    {
      "cell_type": "code",
      "source": [
        "# Image Augmentation\n",
        "train_datagen = ImageDataGenerator(\n",
        "    rescale = 1.0/255.,\n",
        "    rotation_range=40,\n",
        "    width_shift_range=0.2,\n",
        "    height_shift_range=0.2,\n",
        "    shear_range=0.2,\n",
        "    zoom_range=0.2,\n",
        "    horizontal_flip=True)\n",
        "train_generator = train_datagen.flow_from_directory(\n",
        "    train_dir,\n",
        "    target_size=(150,150),\n",
        "    class_mode='binary',\n",
        "    batch_size=20\n",
        ")\n",
        "test_datagen = ImageDataGenerator(\n",
        "    rescale = 1.0/255.)\n",
        "test_generator = test_datagen.flow_from_directory(\n",
        "    validation_dir,\n",
        "    target_size=(150,150),\n",
        "    class_mode='binary',\n",
        "    batch_size=20\n",
        ")"
      ],
      "metadata": {
        "colab": {
          "base_uri": "https://localhost:8080/"
        },
        "id": "7a898XPk79kB",
        "outputId": "7ae87aa8-744d-4e05-9845-b2cc1b606926"
      },
      "execution_count": null,
      "outputs": [
        {
          "output_type": "stream",
          "name": "stdout",
          "text": [
            "Found 2000 images belonging to 2 classes.\n",
            "Found 1000 images belonging to 2 classes.\n"
          ]
        }
      ]
    },
    {
      "cell_type": "code",
      "source": [
        "# 모델생성\n",
        "model = Sequential()\n",
        "model.add(Conv2D(16, (3,3), activation='relu', input_shape=(150, 150, 3)))\n",
        "model.add(MaxPooling2D(2,2))\n",
        "model.add(Conv2D(32, (3,3), activation='relu'))\n",
        "model.add(MaxPooling2D(2,2))\n",
        "model.add(Conv2D(64, (3,3), activation='relu'))\n",
        "model.add(MaxPooling2D(2,2))\n",
        "model.add(Flatten())\n",
        "model.add(Dense(512, activation='relu'))\n",
        "model.add(Dense(1, activation='sigmoid'))\n",
        "model.summary()"
      ],
      "metadata": {
        "colab": {
          "base_uri": "https://localhost:8080/"
        },
        "id": "32UqLHBt8IGa",
        "outputId": "7076ac45-608a-45f9-e745-dcac102a66e8"
      },
      "execution_count": null,
      "outputs": [
        {
          "output_type": "stream",
          "name": "stdout",
          "text": [
            "Model: \"sequential_3\"\n",
            "_________________________________________________________________\n",
            " Layer (type)                Output Shape              Param #   \n",
            "=================================================================\n",
            " conv2d_9 (Conv2D)           (None, 148, 148, 16)      448       \n",
            "                                                                 \n",
            " max_pooling2d_9 (MaxPooling  (None, 74, 74, 16)       0         \n",
            " 2D)                                                             \n",
            "                                                                 \n",
            " conv2d_10 (Conv2D)          (None, 72, 72, 32)        4640      \n",
            "                                                                 \n",
            " max_pooling2d_10 (MaxPoolin  (None, 36, 36, 32)       0         \n",
            " g2D)                                                            \n",
            "                                                                 \n",
            " conv2d_11 (Conv2D)          (None, 34, 34, 64)        18496     \n",
            "                                                                 \n",
            " max_pooling2d_11 (MaxPoolin  (None, 17, 17, 64)       0         \n",
            " g2D)                                                            \n",
            "                                                                 \n",
            " flatten_3 (Flatten)         (None, 18496)             0         \n",
            "                                                                 \n",
            " dense_6 (Dense)             (None, 512)               9470464   \n",
            "                                                                 \n",
            " dense_7 (Dense)             (None, 1)                 513       \n",
            "                                                                 \n",
            "=================================================================\n",
            "Total params: 9,494,561\n",
            "Trainable params: 9,494,561\n",
            "Non-trainable params: 0\n",
            "_________________________________________________________________\n"
          ]
        }
      ]
    },
    {
      "cell_type": "code",
      "source": [
        "# 모델 컴파일\n",
        "from tensorflow.keras.optimizers import RMSprop\n",
        "\n",
        "model.compile(optimizer=RMSprop(lr=0.001),\n",
        "            loss='binary_crossentropy',\n",
        "            metrics = ['accuracy'])"
      ],
      "metadata": {
        "colab": {
          "base_uri": "https://localhost:8080/"
        },
        "id": "A_YJTNyC89C-",
        "outputId": "b2e04253-3e15-4d1a-cab2-e1e36fc6656e"
      },
      "execution_count": null,
      "outputs": [
        {
          "output_type": "stream",
          "name": "stderr",
          "text": [
            "/usr/local/lib/python3.7/dist-packages/keras/optimizer_v2/rmsprop.py:130: UserWarning: The `lr` argument is deprecated, use `learning_rate` instead.\n",
            "  super(RMSprop, self).__init__(name, **kwargs)\n"
          ]
        }
      ]
    },
    {
      "cell_type": "code",
      "source": [
        "earlystopping = EarlyStopping(monitor='val_loss', patience=5)\n",
        "history = model.fit(train_generator,\n",
        "                    validation_data=test_generator,\n",
        "                    steps_per_epoch=100,\n",
        "                    epochs=100,\n",
        "                    validation_steps=50,\n",
        "                    verbose=2,\n",
        "                    callbacks=[earlystopping])"
      ],
      "metadata": {
        "colab": {
          "base_uri": "https://localhost:8080/"
        },
        "id": "j2urcDqK9hU9",
        "outputId": "538699ed-504f-4207-b395-d4989b93b7b4"
      },
      "execution_count": null,
      "outputs": [
        {
          "output_type": "stream",
          "name": "stdout",
          "text": [
            "Epoch 1/100\n",
            "100/100 - 17s - loss: 0.8156 - accuracy: 0.5460 - val_loss: 0.6773 - val_accuracy: 0.6080 - 17s/epoch - 172ms/step\n",
            "Epoch 2/100\n",
            "100/100 - 16s - loss: 0.6968 - accuracy: 0.5815 - val_loss: 0.6464 - val_accuracy: 0.6800 - 16s/epoch - 164ms/step\n",
            "Epoch 3/100\n",
            "100/100 - 17s - loss: 0.6564 - accuracy: 0.6475 - val_loss: 0.6761 - val_accuracy: 0.5950 - 17s/epoch - 167ms/step\n",
            "Epoch 4/100\n",
            "100/100 - 17s - loss: 0.6355 - accuracy: 0.6445 - val_loss: 0.6695 - val_accuracy: 0.6310 - 17s/epoch - 173ms/step\n",
            "Epoch 5/100\n",
            "100/100 - 17s - loss: 0.6433 - accuracy: 0.6505 - val_loss: 0.5733 - val_accuracy: 0.6890 - 17s/epoch - 166ms/step\n",
            "Epoch 6/100\n",
            "100/100 - 16s - loss: 0.6095 - accuracy: 0.6655 - val_loss: 0.5777 - val_accuracy: 0.6850 - 16s/epoch - 163ms/step\n",
            "Epoch 7/100\n",
            "100/100 - 16s - loss: 0.6211 - accuracy: 0.6720 - val_loss: 0.5831 - val_accuracy: 0.6980 - 16s/epoch - 163ms/step\n",
            "Epoch 8/100\n",
            "100/100 - 16s - loss: 0.5987 - accuracy: 0.6770 - val_loss: 0.5476 - val_accuracy: 0.7140 - 16s/epoch - 163ms/step\n",
            "Epoch 9/100\n",
            "100/100 - 16s - loss: 0.6000 - accuracy: 0.6865 - val_loss: 0.5654 - val_accuracy: 0.7210 - 16s/epoch - 162ms/step\n",
            "Epoch 10/100\n",
            "100/100 - 16s - loss: 0.5892 - accuracy: 0.6825 - val_loss: 0.5438 - val_accuracy: 0.7190 - 16s/epoch - 164ms/step\n",
            "Epoch 11/100\n",
            "100/100 - 16s - loss: 0.5794 - accuracy: 0.6830 - val_loss: 0.5463 - val_accuracy: 0.7200 - 16s/epoch - 161ms/step\n",
            "Epoch 12/100\n",
            "100/100 - 16s - loss: 0.5553 - accuracy: 0.7140 - val_loss: 0.5680 - val_accuracy: 0.7170 - 16s/epoch - 162ms/step\n",
            "Epoch 13/100\n",
            "100/100 - 16s - loss: 0.5654 - accuracy: 0.7065 - val_loss: 0.5310 - val_accuracy: 0.7300 - 16s/epoch - 162ms/step\n",
            "Epoch 14/100\n",
            "100/100 - 16s - loss: 0.5633 - accuracy: 0.7075 - val_loss: 0.5241 - val_accuracy: 0.7340 - 16s/epoch - 163ms/step\n",
            "Epoch 15/100\n",
            "100/100 - 16s - loss: 0.5665 - accuracy: 0.7150 - val_loss: 0.6529 - val_accuracy: 0.6400 - 16s/epoch - 162ms/step\n",
            "Epoch 16/100\n",
            "100/100 - 16s - loss: 0.5451 - accuracy: 0.7240 - val_loss: 0.5144 - val_accuracy: 0.7280 - 16s/epoch - 163ms/step\n",
            "Epoch 17/100\n",
            "100/100 - 16s - loss: 0.5476 - accuracy: 0.7260 - val_loss: 0.5343 - val_accuracy: 0.7250 - 16s/epoch - 164ms/step\n",
            "Epoch 18/100\n",
            "100/100 - 16s - loss: 0.5445 - accuracy: 0.7340 - val_loss: 0.5584 - val_accuracy: 0.7370 - 16s/epoch - 162ms/step\n",
            "Epoch 19/100\n",
            "100/100 - 16s - loss: 0.5425 - accuracy: 0.7320 - val_loss: 0.5274 - val_accuracy: 0.7420 - 16s/epoch - 162ms/step\n",
            "Epoch 20/100\n",
            "100/100 - 16s - loss: 0.5439 - accuracy: 0.7325 - val_loss: 0.5036 - val_accuracy: 0.7540 - 16s/epoch - 163ms/step\n",
            "Epoch 21/100\n",
            "100/100 - 16s - loss: 0.5265 - accuracy: 0.7420 - val_loss: 0.5210 - val_accuracy: 0.7570 - 16s/epoch - 163ms/step\n",
            "Epoch 22/100\n",
            "100/100 - 16s - loss: 0.5428 - accuracy: 0.7250 - val_loss: 0.4994 - val_accuracy: 0.7460 - 16s/epoch - 163ms/step\n",
            "Epoch 23/100\n",
            "100/100 - 16s - loss: 0.5109 - accuracy: 0.7555 - val_loss: 0.5079 - val_accuracy: 0.7460 - 16s/epoch - 164ms/step\n",
            "Epoch 24/100\n",
            "100/100 - 17s - loss: 0.5202 - accuracy: 0.7560 - val_loss: 0.5229 - val_accuracy: 0.7470 - 17s/epoch - 166ms/step\n",
            "Epoch 25/100\n",
            "100/100 - 18s - loss: 0.5229 - accuracy: 0.7405 - val_loss: 0.5398 - val_accuracy: 0.7550 - 18s/epoch - 178ms/step\n",
            "Epoch 26/100\n",
            "100/100 - 17s - loss: 0.5216 - accuracy: 0.7490 - val_loss: 0.5121 - val_accuracy: 0.7510 - 17s/epoch - 168ms/step\n",
            "Epoch 27/100\n",
            "100/100 - 26s - loss: 0.5230 - accuracy: 0.7355 - val_loss: 0.5916 - val_accuracy: 0.7220 - 26s/epoch - 256ms/step\n"
          ]
        }
      ]
    },
    {
      "cell_type": "code",
      "source": [
        "#히스토리 그래프\n",
        "acc = history.history['accuracy']\n",
        "val_acc = history.history['val_accuracy']\n",
        "loss = history.history['loss']\n",
        "val_loss = history.history['val_loss']\n",
        "\n",
        "plt.plot(acc, 'bo', label='Training accuracy')\n",
        "plt.plot(val_acc, 'b', label='Validation accuracy')\n",
        "plt.title('Training and validation accuracy')\n",
        "plt.legend()\n",
        "\n",
        "plt.figure()\n",
        "plt.plot(loss, 'go', label='Training Loss')\n",
        "plt.plot(val_loss, 'g', label='Validation Loss')\n",
        "plt.title('Training and validation loss')\n",
        "plt.legend()\n",
        "\n",
        "plt.show()"
      ],
      "metadata": {
        "colab": {
          "base_uri": "https://localhost:8080/",
          "height": 545
        },
        "id": "6zE1mcAK9k3g",
        "outputId": "1d62d067-cfcb-40f5-b264-758a77fcb4d6"
      },
      "execution_count": null,
      "outputs": [
        {
          "output_type": "display_data",
          "data": {
            "text/plain": [
              "<Figure size 432x288 with 1 Axes>"
            ],
            "image/png": "[encoded data removed]"
          },
          "metadata": {
            "needs_background": "light"
          }
        },
        {
          "output_type": "display_data",
          "data": {
            "text/plain": [
              "<Figure size 432x288 with 1 Axes>"
            ],
            "image/png": "[encoded data removed]"
          },
          "metadata": {
            "needs_background": "light"
          }
        }
      ]
    }
  ],
  "metadata": {
    "accelerator": "GPU",
    "colab": {
      "collapsed_sections": [],
      "name": "CNN을 이용한 고양이와 개 이미지 분류.ipynb",
      "provenance": [],
      "authorship_tag": "ABX9TyO9CCvrk5FYPCXdw0WEVedu",
      "include_colab_link": true
    },
    "gpuClass": "standard",
    "kernelspec": {
      "display_name": "Python 3",
      "name": "python3"
    },
    "language_info": {
      "name": "python"
    }
  },
  "nbformat": 4,
  "nbformat_minor": 0
}